{
 "cells": [
  {
   "cell_type": "markdown",
   "metadata": {},
   "source": [
    "Here is a simple example of how the package can be used and what requirements must be met in order to be able to use the full range of functions.\n",
    "A basic requirement is the availability of downloaded satellite image data (so far only Sentinel-2 is supported). The data structure should look like this: \n",
    "\n",
    "![title](C:\\Users\\hoeh_pa\\Desktop\\SatelliteDataCube\\demo\\img\\example_data_structure.png)\n",
    "\n",
    "The most important thing is that the bands in the folder are marked with a \"B\" and the number, e.g. B02, B12."
   ]
  },
  {
   "cell_type": "markdown",
   "metadata": {},
   "source": []
  },
  {
   "cell_type": "code",
   "execution_count": null,
   "metadata": {},
   "outputs": [],
   "source": []
  },
  {
   "cell_type": "code",
   "execution_count": 1,
   "metadata": {},
   "outputs": [
    {
     "name": "stdout",
     "output_type": "stream",
     "text": [
      "metadata\n",
      "NDVI.tif\n",
      "NDWI.tif\n",
      "S2_mspc_l2a_20180906_B02.tif\n",
      "S2_mspc_l2a_20180906_B03.tif\n",
      "S2_mspc_l2a_20180906_B04.tif\n",
      "S2_mspc_l2a_20180906_B05.tif\n",
      "S2_mspc_l2a_20180906_B06.tif\n",
      "S2_mspc_l2a_20180906_B07.tif\n",
      "S2_mspc_l2a_20180906_B08.tif\n",
      "S2_mspc_l2a_20180906_B11.tif\n",
      "S2_mspc_l2a_20180906_B12.tif\n",
      "S2_mspc_l2a_20180906_B8A.tif\n",
      "S2_mspc_l2a_20180906_SCL.tif\n",
      "S2_mspc_l2a_20180906_true_color.vrt\n"
     ]
    },
    {
     "data": {
      "text/plain": [
       "[None,\n",
       " None,\n",
       " None,\n",
       " None,\n",
       " None,\n",
       " None,\n",
       " None,\n",
       " None,\n",
       " None,\n",
       " None,\n",
       " None,\n",
       " None,\n",
       " None,\n",
       " None,\n",
       " None]"
      ]
     },
     "execution_count": 1,
     "metadata": {},
     "output_type": "execute_result"
    }
   ],
   "source": [
    "import os\n",
    "[print(file) for file in os.listdir(r\"D:\\WeMonitor\\Data\\Landslides\\S2\\Locations\\Chimanimani\\20180906\")]"
   ]
  },
  {
   "cell_type": "code",
   "execution_count": null,
   "metadata": {},
   "outputs": [],
   "source": []
  }
 ],
 "metadata": {
  "kernelspec": {
   "display_name": "Python 3",
   "language": "python",
   "name": "python3"
  },
  "language_info": {
   "codemirror_mode": {
    "name": "ipython",
    "version": 3
   },
   "file_extension": ".py",
   "mimetype": "text/x-python",
   "name": "python",
   "nbconvert_exporter": "python",
   "pygments_lexer": "ipython3",
   "version": "3.11.3"
  },
  "orig_nbformat": 4
 },
 "nbformat": 4,
 "nbformat_minor": 2
}

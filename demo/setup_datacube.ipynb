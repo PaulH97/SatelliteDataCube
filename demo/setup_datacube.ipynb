{
 "cells": [
  {
   "cell_type": "markdown",
   "metadata": {},
   "source": [
    "Here is a simple example of how the package can be used and what requirements must be met in order to be able to use the full range of functions.\n",
    "A basic requirement is the availability of downloaded satellite image data (so far only Sentinel-2 is supported). The data structure should look similar to this: \n",
    "\n",
    "![Example data structure](./img/example_data_structure.png)\n",
    "\n",
    "The most important thing is that the bands in the folder are marked with a \"B\" and the number and stored as GeoTIFF, e.g. ..._B02.tif, ..._B12.tif. If the data is to be pre-processed for a deep learning model, then a file with the corresponding labels must also be provided for each image and contain the name annotation (see example: annotation.tif)."
   ]
  },
  {
   "cell_type": "code",
   "execution_count": 1,
   "metadata": {},
   "outputs": [],
   "source": [
    "# Make sure the package is installed\n",
    "# pip install satellite_datacube"
   ]
  },
  {
   "cell_type": "code",
   "execution_count": 1,
   "metadata": {},
   "outputs": [],
   "source": [
    "from satellite_datacube.datacube import SatelliteDataCube \n",
    "\n",
    "# Define folder of satellite data and specify some parameters (read more in the doc-string)\n",
    "path_of_SITS = r\"D:\\SatelliteDataCube\\Chimanimani\" # path_of_SITS = \".../Sentinel2\"\n",
    "satellites = [\"S1\", \"S2\"]\n",
    "dcParameter = { \"timeseriesLength\": 6 , \"badPixelLimit\": 15 , \"patchSize\": 128}"
   ]
  },
  {
   "cell_type": "code",
   "execution_count": 3,
   "metadata": {},
   "outputs": [
    {
     "name": "stdout",
     "output_type": "stream",
     "text": [
      "-------------------- Chimanimani --------------------\n",
      "Initializing data-cube with following parameter:\n",
      "- base folder: D:\\SatelliteDataCube\\Chimanimani\n",
      "- length of timeseries: 6\n",
      "- limit of bad pixel per satellite image in timeseries: 15%\n",
      "- patch size of 128\n"
     ]
    }
   ],
   "source": [
    "S2_datacube = SatelliteDataCube(base_folder=path_of_SITS, parameters=dcParameter, load_data=False, preprocess=False)"
   ]
  },
  {
   "cell_type": "code",
   "execution_count": 3,
   "metadata": {},
   "outputs": [
    {
     "name": "stdout",
     "output_type": "stream",
     "text": [
      "Building global mask of datacube\n",
      "Selecting timeseries of length 6 with bad pixel limit of 15 % for each satellite image\n",
      "[0 1 2 3]\r"
     ]
    },
    {
     "ename": "KeyboardInterrupt",
     "evalue": "",
     "output_type": "error",
     "traceback": [
      "\u001b[1;31m---------------------------------------------------------------------------\u001b[0m",
      "\u001b[1;31mKeyboardInterrupt\u001b[0m                         Traceback (most recent call last)",
      "Cell \u001b[1;32mIn[3], line 11\u001b[0m\n\u001b[0;32m      1\u001b[0m \u001b[39m# Preprocessing data:\u001b[39;00m\n\u001b[0;32m      2\u001b[0m \u001b[39m# 1. Building global data \u001b[39;00m\n\u001b[0;32m      3\u001b[0m \u001b[39m#    - selecting images for timeseries with length parameter \u001b[39;00m\n\u001b[1;32m   (...)\u001b[0m\n\u001b[0;32m      9\u001b[0m \u001b[39m#       - msk = single binary masks for each timestep\u001b[39;00m\n\u001b[0;32m     10\u001b[0m \u001b[39m#       - msk_gb = single binary masks for whole timeseries (missing the time axis)\u001b[39;00m\n\u001b[1;32m---> 11\u001b[0m S2_datacube\u001b[39m.\u001b[39;49mpreprocess()\n",
      "File \u001b[1;32mc:\\users\\hoeh_pa\\desktop\\satellitedatacube\\satellite_datacube\\datacube.py:30\u001b[0m, in \u001b[0;36mSatelliteDataCube.preprocess\u001b[1;34m(self)\u001b[0m\n\u001b[0;32m     28\u001b[0m \u001b[39mdef\u001b[39;00m \u001b[39mpreprocess\u001b[39m(\u001b[39mself\u001b[39m):\n\u001b[0;32m     29\u001b[0m     \u001b[39mif\u001b[39;00m \u001b[39mnot\u001b[39;00m \u001b[39mself\u001b[39m\u001b[39m.\u001b[39mglobal_data \u001b[39mor\u001b[39;00m \u001b[39mf\u001b[39m\u001b[39m\"\u001b[39m\u001b[39mts\u001b[39m\u001b[39m{\u001b[39;00m\u001b[39mself\u001b[39m\u001b[39m.\u001b[39mparameters[\u001b[39m'\u001b[39m\u001b[39mtimeseriesLength\u001b[39m\u001b[39m'\u001b[39m]\u001b[39m}\u001b[39;00m\u001b[39m\"\u001b[39m \u001b[39mnot\u001b[39;00m \u001b[39min\u001b[39;00m \u001b[39mself\u001b[39m\u001b[39m.\u001b[39mglobal_data:\n\u001b[1;32m---> 30\u001b[0m         \u001b[39mself\u001b[39m\u001b[39m.\u001b[39mglobal_data \u001b[39m=\u001b[39m \u001b[39mself\u001b[39;49m\u001b[39m.\u001b[39;49mbuild_global_data(\u001b[39mself\u001b[39;49m\u001b[39m.\u001b[39;49mparameters[\u001b[39m\"\u001b[39;49m\u001b[39mtimeseriesLength\u001b[39;49m\u001b[39m\"\u001b[39;49m], \u001b[39mself\u001b[39;49m\u001b[39m.\u001b[39;49mparameters[\u001b[39m\"\u001b[39;49m\u001b[39mbadPixelLimit\u001b[39;49m\u001b[39m\"\u001b[39;49m])\n\u001b[0;32m     31\u001b[0m     \u001b[39melse\u001b[39;00m:\n\u001b[0;32m     32\u001b[0m         \u001b[39mself\u001b[39m\u001b[39m.\u001b[39mglobal_data \u001b[39m=\u001b[39m \u001b[39mself\u001b[39m\u001b[39m.\u001b[39mload_global_data()\n",
      "File \u001b[1;32mc:\\users\\hoeh_pa\\desktop\\satellitedatacube\\satellite_datacube\\datacube.py:81\u001b[0m, in \u001b[0;36mSatelliteDataCube.build_global_data\u001b[1;34m(self, timeseries_length, bad_pixel_limit)\u001b[0m\n\u001b[0;32m     79\u001b[0m global_data_methods \u001b[39m=\u001b[39m {\u001b[39m'\u001b[39m\u001b[39mglobal_mask\u001b[39m\u001b[39m'\u001b[39m: \u001b[39mself\u001b[39m\u001b[39m.\u001b[39mbuild_global_mask,\u001b[39m'\u001b[39m\u001b[39mtimeseries\u001b[39m\u001b[39m'\u001b[39m: \u001b[39mlambda\u001b[39;00m: \u001b[39mself\u001b[39m\u001b[39m.\u001b[39mselect_timeseries(timeseries_length, bad_pixel_limit)}\n\u001b[0;32m     80\u001b[0m \u001b[39mfor\u001b[39;00m method \u001b[39min\u001b[39;00m global_data_methods\u001b[39m.\u001b[39mvalues():    \n\u001b[1;32m---> 81\u001b[0m         method()\n\u001b[0;32m     82\u001b[0m \u001b[39mself\u001b[39m\u001b[39m.\u001b[39msave_global_data()\n\u001b[0;32m     83\u001b[0m \u001b[39mreturn\u001b[39;00m \u001b[39mself\u001b[39m\u001b[39m.\u001b[39mglobal_data\n",
      "File \u001b[1;32mc:\\users\\hoeh_pa\\desktop\\satellitedatacube\\satellite_datacube\\datacube.py:79\u001b[0m, in \u001b[0;36mSatelliteDataCube.build_global_data.<locals>.<lambda>\u001b[1;34m()\u001b[0m\n\u001b[0;32m     78\u001b[0m \u001b[39mdef\u001b[39;00m \u001b[39mbuild_global_data\u001b[39m(\u001b[39mself\u001b[39m, timeseries_length, bad_pixel_limit):\n\u001b[1;32m---> 79\u001b[0m     global_data_methods \u001b[39m=\u001b[39m {\u001b[39m'\u001b[39m\u001b[39mglobal_mask\u001b[39m\u001b[39m'\u001b[39m: \u001b[39mself\u001b[39m\u001b[39m.\u001b[39mbuild_global_mask,\u001b[39m'\u001b[39m\u001b[39mtimeseries\u001b[39m\u001b[39m'\u001b[39m: \u001b[39mlambda\u001b[39;00m: \u001b[39mself\u001b[39;49m\u001b[39m.\u001b[39;49mselect_timeseries(timeseries_length, bad_pixel_limit)}\n\u001b[0;32m     80\u001b[0m     \u001b[39mfor\u001b[39;00m method \u001b[39min\u001b[39;00m global_data_methods\u001b[39m.\u001b[39mvalues():    \n\u001b[0;32m     81\u001b[0m             method()\n",
      "File \u001b[1;32mc:\\users\\hoeh_pa\\desktop\\satellitedatacube\\satellite_datacube\\datacube.py:130\u001b[0m, in \u001b[0;36mSatelliteDataCube.select_timeseries\u001b[1;34m(self, timeseries_length, bad_pixel_limit)\u001b[0m\n\u001b[0;32m    128\u001b[0m neighbor_satellite_image \u001b[39m=\u001b[39m \u001b[39mlist\u001b[39m(\u001b[39mself\u001b[39m\u001b[39m.\u001b[39msatellite_images\u001b[39m.\u001b[39mvalues())[new_idx]\n\u001b[0;32m    129\u001b[0m \u001b[39m# If the neighboring image is useful, append it\u001b[39;00m\n\u001b[1;32m--> 130\u001b[0m \u001b[39mif\u001b[39;00m is_useful_image(neighbor_satellite_image, bad_pixel_limit, timeseries):\n\u001b[0;32m    131\u001b[0m     timeseries\u001b[39m.\u001b[39mappend(neighbor_satellite_image)\n\u001b[0;32m    132\u001b[0m     found_good_image \u001b[39m=\u001b[39m \u001b[39mTrue\u001b[39;00m\n",
      "File \u001b[1;32mc:\\users\\hoeh_pa\\desktop\\satellitedatacube\\satellite_datacube\\datacube.py:101\u001b[0m, in \u001b[0;36mSatelliteDataCube.select_timeseries.<locals>.is_useful_image\u001b[1;34m(satellite_image, bad_pixel_limit, timeseries)\u001b[0m\n\u001b[0;32m    100\u001b[0m \u001b[39mdef\u001b[39;00m \u001b[39mis_useful_image\u001b[39m(satellite_image, bad_pixel_limit, timeseries):\n\u001b[1;32m--> 101\u001b[0m     satellite_image\u001b[39m.\u001b[39;49mcalculate_bad_pixels()\n\u001b[0;32m    102\u001b[0m     satellite_image\u001b[39m.\u001b[39munload_mask()\n\u001b[0;32m    103\u001b[0m     \u001b[39mreturn\u001b[39;00m satellite_image\u001b[39m.\u001b[39m_badPixelRatio \u001b[39m<\u001b[39m\u001b[39m=\u001b[39m bad_pixel_limit \u001b[39mand\u001b[39;00m satellite_image \u001b[39mnot\u001b[39;00m \u001b[39min\u001b[39;00m timeseries\n",
      "File \u001b[1;32mc:\\users\\hoeh_pa\\desktop\\satellitedatacube\\satellite_datacube\\image.py:100\u001b[0m, in \u001b[0;36mSatelliteImage.calculate_bad_pixels\u001b[1;34m(self)\u001b[0m\n\u001b[0;32m     98\u001b[0m \u001b[39mdef\u001b[39;00m \u001b[39mcalculate_bad_pixels\u001b[39m(\u001b[39mself\u001b[39m):\n\u001b[0;32m     99\u001b[0m     \u001b[39mif\u001b[39;00m \u001b[39mnot\u001b[39;00m \u001b[39mself\u001b[39m\u001b[39m.\u001b[39m_bands:\n\u001b[1;32m--> 100\u001b[0m         \u001b[39mself\u001b[39;49m\u001b[39m.\u001b[39;49minitiate_bands()\n\u001b[0;32m    101\u001b[0m     scene_class \u001b[39m=\u001b[39m \u001b[39mself\u001b[39m\u001b[39m.\u001b[39m_bands[\u001b[39m\"\u001b[39m\u001b[39mSCL\u001b[39m\u001b[39m\"\u001b[39m]\u001b[39m.\u001b[39mbandArray\n\u001b[0;32m    102\u001b[0m     bad_pixel \u001b[39m=\u001b[39m np\u001b[39m.\u001b[39misin(scene_class, [\u001b[39m0\u001b[39m,\u001b[39m1\u001b[39m,\u001b[39m2\u001b[39m,\u001b[39m3\u001b[39m,\u001b[39m8\u001b[39m,\u001b[39m9\u001b[39m,\u001b[39m10\u001b[39m,\u001b[39m11\u001b[39m])\n",
      "File \u001b[1;32mc:\\users\\hoeh_pa\\desktop\\satellitedatacube\\satellite_datacube\\image.py:60\u001b[0m, in \u001b[0;36mSatelliteImage.initiate_bands\u001b[1;34m(self, indices)\u001b[0m\n\u001b[0;32m     58\u001b[0m     band_id \u001b[39m=\u001b[39m \u001b[39mself\u001b[39m\u001b[39m.\u001b[39m_extract_band_info(band_path)\n\u001b[0;32m     59\u001b[0m     \u001b[39mif\u001b[39;00m band_id:       \n\u001b[1;32m---> 60\u001b[0m         \u001b[39mself\u001b[39;49m\u001b[39m.\u001b[39;49madd_band(band_id, band_path)\n\u001b[0;32m     62\u001b[0m sorted_keys \u001b[39m=\u001b[39m \u001b[39msorted\u001b[39m(\u001b[39mself\u001b[39m\u001b[39m.\u001b[39m_bands, key\u001b[39m=\u001b[39m\u001b[39mself\u001b[39m\u001b[39m.\u001b[39m_extract_band_number)\n\u001b[0;32m     63\u001b[0m \u001b[39mself\u001b[39m\u001b[39m.\u001b[39m_bands \u001b[39m=\u001b[39m {k: \u001b[39mself\u001b[39m\u001b[39m.\u001b[39m_bands[k] \u001b[39mfor\u001b[39;00m k \u001b[39min\u001b[39;00m sorted_keys}\n",
      "File \u001b[1;32mc:\\users\\hoeh_pa\\desktop\\satellitedatacube\\satellite_datacube\\image.py:45\u001b[0m, in \u001b[0;36mSatelliteImage.add_band\u001b[1;34m(self, band_id, file_path)\u001b[0m\n\u001b[0;32m     44\u001b[0m \u001b[39mdef\u001b[39;00m \u001b[39madd_band\u001b[39m(\u001b[39mself\u001b[39m, band_id, file_path):\n\u001b[1;32m---> 45\u001b[0m     \u001b[39mself\u001b[39m\u001b[39m.\u001b[39m_bands[band_id] \u001b[39m=\u001b[39m SatelliteBand(band_id, file_path)\n",
      "File \u001b[1;32mc:\\users\\hoeh_pa\\desktop\\satellitedatacube\\satellite_datacube\\band.py:12\u001b[0m, in \u001b[0;36mSatelliteBand.__init__\u001b[1;34m(self, band_name, band_path)\u001b[0m\n\u001b[0;32m     10\u001b[0m \u001b[39mself\u001b[39m\u001b[39m.\u001b[39mpath \u001b[39m=\u001b[39m band_path\n\u001b[0;32m     11\u001b[0m \u001b[39mself\u001b[39m\u001b[39m.\u001b[39mband \u001b[39m=\u001b[39m rasterio\u001b[39m.\u001b[39mopen(\u001b[39mself\u001b[39m\u001b[39m.\u001b[39mpath)\n\u001b[1;32m---> 12\u001b[0m \u001b[39mself\u001b[39m\u001b[39m.\u001b[39mbandArray \u001b[39m=\u001b[39m \u001b[39mself\u001b[39;49m\u001b[39m.\u001b[39;49mband\u001b[39m.\u001b[39;49mread()\n",
      "\u001b[1;31mKeyboardInterrupt\u001b[0m: "
     ]
    }
   ],
   "source": [
    "# Preprocessing data:\n",
    "# 1. Building global data \n",
    "#    - selecting images for timeseries with length parameter \n",
    "#    - building/loading one mask for entire timeseries \n",
    "# 2. Create patches of selected timeseries for image and mask data\n",
    "#    - split images/masks in smaller patches with proceeded size \n",
    "#    - stack patches together with shape pattern: NxTxCxHxW \n",
    "#       - img = multi-spectral images for each timestep\n",
    "#       - msk = single binary masks for each timestep\n",
    "#       - msk_gb = single binary masks for whole timeseries (missing the time axis)\n",
    "S2_datacube.preprocess()"
   ]
  },
  {
   "cell_type": "code",
   "execution_count": null,
   "metadata": {},
   "outputs": [],
   "source": []
  }
 ],
 "metadata": {
  "kernelspec": {
   "display_name": "Python 3",
   "language": "python",
   "name": "python3"
  },
  "language_info": {
   "codemirror_mode": {
    "name": "ipython",
    "version": 3
   },
   "file_extension": ".py",
   "mimetype": "text/x-python",
   "name": "python",
   "nbconvert_exporter": "python",
   "pygments_lexer": "ipython3",
   "version": "3.11.3"
  },
  "orig_nbformat": 4
 },
 "nbformat": 4,
 "nbformat_minor": 2
}

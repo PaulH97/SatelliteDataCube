{
 "cells": [
  {
   "cell_type": "markdown",
   "metadata": {},
   "source": [
    "Here is a simple example of how the package can be used and what requirements must be met in order to be able to use the full range of functions.\n",
    "A basic requirement is the availability of downloaded satellite image data (so far only Sentinel-2 is supported). The data structure should look similar to this: \n",
    "\n",
    "![Example data structure](./img/example_data_structure.png)\n",
    "\n",
    "The most important thing is that the bands in the folder are marked with a \"B\" and the number and stored as GeoTIFF, e.g. ..._B02.tif, ..._B12.tif. If the data is to be pre-processed for a deep learning model, then a file with the corresponding labels must also be provided for each image and contain the name annotation (see example: annotation.tif)."
   ]
  },
  {
   "cell_type": "code",
   "execution_count": 1,
   "metadata": {},
   "outputs": [],
   "source": [
    "# Make sure the package is installed\n",
    "# pip install satellite_datacube"
   ]
  },
  {
   "cell_type": "code",
   "execution_count": 3,
   "metadata": {},
   "outputs": [
    {
     "name": "stdout",
     "output_type": "stream",
     "text": [
      "\n",
      "----------------------------------------\n",
      "Initialized data-cube with following parameter:\n",
      "- Images from satellite mission: S2\n",
      "- Base folder: D:\\SatelliteDataCube\\Chimanimani\n",
      "- Start-End: 2018-09-06 -> 2019-09-16\n",
      "- Length of data-cube: 76\n",
      "----------------------------------------\n"
     ]
    }
   ],
   "source": [
    "from satellite_datacube.datacube import SatelliteDataCube \n",
    "import os \n",
    "# Define folder of satellite data and specify some parameters (read more in the doc-string)\n",
    "satellite = \"S2\" # or S1 or S12\n",
    "base_folder = r\"D:\\SatelliteDataCube\\Chimanimani\" # path_of_SITS = \".../Sentinel2\"\n",
    "S2_Chimanimani = SatelliteDataCube(satellite=satellite, base_folder=base_folder)"
   ]
  },
  {
   "cell_type": "code",
   "execution_count": 10,
   "metadata": {},
   "outputs": [
    {
     "name": "stdout",
     "output_type": "stream",
     "text": [
      "Selecting timeseries with 6 satellite images of data-cube\n",
      "[0 1 2 3 4 5]\r"
     ]
    }
   ],
   "source": [
    "# Make a selection of images and store them as timeseries \n",
    "S2_Chimanimani_ts10 = S2_Chimanimani.create_timeseries(timeseries_length=6)\n",
    "S2_Chimanimani.save_timeseries(timeseries=S2_Chimanimani_ts10)"
   ]
  },
  {
   "cell_type": "code",
   "execution_count": 11,
   "metadata": {},
   "outputs": [
    {
     "name": "stdout",
     "output_type": "stream",
     "text": [
      "1: Satellite image on date 2018-09-06\n",
      "2: Satellite image on date 2018-11-20\n",
      "3: Satellite image on date 2019-01-24\n",
      "4: Satellite image on date 2019-04-29\n",
      "5: Satellite image on date 2019-07-03\n",
      "6: Satellite image on date 2019-09-11\n"
     ]
    }
   ],
   "source": [
    "# See selected timeseries and check the length of it\n",
    "for idx, satellite_image in enumerate(S2_Chimanimani_ts10):\n",
    "    print(f\"{idx+1}: Satellite image on date {satellite_image.date}\")"
   ]
  },
  {
   "cell_type": "code",
   "execution_count": 12,
   "metadata": {},
   "outputs": [
    {
     "name": "stdout",
     "output_type": "stream",
     "text": [
      "Generating patches of size 256x256px for 6 satellite images with corresponding masks and for one global mask:\n",
      "-> Start with satellite images of date 2018-09-06\n",
      "-> Start with satellite images of date 2018-11-20\n",
      "-> Start with satellite images of date 2019-01-24\n",
      "-> Start with satellite images of date 2019-04-29\n",
      "-> Start with satellite images of date 2019-07-03\n",
      "-> Start with satellite images of date 2019-09-11\n",
      "-> Start with satellite masks of date 2018-09-06\n",
      "-> Start with satellite masks of date 2018-11-20\n",
      "-> Start with satellite masks of date 2019-01-24\n",
      "-> Start with satellite masks of date 2019-04-29\n",
      "-> Start with satellite masks of date 2019-07-03\n",
      "-> Start with satellite masks of date 2019-09-11\n",
      "-> Start with global_mask\n"
     ]
    }
   ],
   "source": [
    "# Create patches for satellite image, masks and the global mask of selected timeseries with patch size of 256px\n",
    "S2_Chimanimani_pt256_ts10 = S2_Chimanimani.create_patches(patch_size=256, selected_timeseries=S2_Chimanimani_ts10)"
   ]
  },
  {
   "cell_type": "code",
   "execution_count": 13,
   "metadata": {},
   "outputs": [
    {
     "name": "stdout",
     "output_type": "stream",
     "text": [
      "Patches of IMAGES with shape (448, 6, 10, 256, 256) are stored in dict with key: images\n",
      "There are 448 patches with 6 timesteps and 10 band(s) and a resolution of 256px\n",
      "Patches of MASKS with shape (448, 6, 1, 256, 256) are stored in dict with key: masks\n",
      "There are 448 patches with 6 timesteps and 1 band(s) and a resolution of 256px\n",
      "Patches of GLOBAL_MASK with shape (448, 1, 256, 256) are stored in dict with key: global_mask\n",
      "There are 448 patches with 1 band and a resolution of 256px\n"
     ]
    }
   ],
   "source": [
    "for source, array in S2_Chimanimani_pt256_ts10.items():\n",
    "    print(f\"Patches of {source.upper()} with shape {array.shape} are stored in dict with key: {source}\")\n",
    "    if source == \"global_mask\":\n",
    "        print(f\"There are {array.shape[0]} patches with {array.shape[1]} band and a resolution of {array.shape[-1]}px\")\n",
    "    else:\n",
    "        print(f\"There are {array.shape[0]} patches with {array.shape[1]} timesteps and {array.shape[2]} band(s) and a resolution of {array.shape[-1]}px\")"
   ]
  },
  {
   "cell_type": "code",
   "execution_count": 14,
   "metadata": {},
   "outputs": [],
   "source": [
    "S2_Chimanimani_pt256_ts10 = S2_Chimanimani.filter_patches(\n",
    "    patches=S2_Chimanimani_pt256_ts10,\n",
    "    class_values=[1],\n",
    "    class_ratio=(80,20)\n",
    "    )"
   ]
  },
  {
   "cell_type": "code",
   "execution_count": 15,
   "metadata": {},
   "outputs": [
    {
     "name": "stdout",
     "output_type": "stream",
     "text": [
      "Patches of IMAGES with shape (60, 6, 10, 256, 256) are stored in dict with key: images\n",
      "There are 60 patches with 6 timesteps and 10 band(s) and a resolution of 256px\n",
      "Patches of MASKS with shape (60, 6, 1, 256, 256) are stored in dict with key: masks\n",
      "There are 60 patches with 6 timesteps and 1 band(s) and a resolution of 256px\n",
      "Patches of GLOBAL_MASK with shape (60, 1, 256, 256) are stored in dict with key: global_mask\n",
      "There are 60 patches with 1 band and a resolution of 256px\n"
     ]
    }
   ],
   "source": [
    "for source, array in S2_Chimanimani_pt256_ts10.items():\n",
    "    print(f\"Patches of {source.upper()} with shape {array.shape} are stored in dict with key: {source}\")\n",
    "    if source == \"global_mask\":\n",
    "        print(f\"There are {array.shape[0]} patches with {array.shape[1]} band and a resolution of {array.shape[-1]}px\")\n",
    "    else:\n",
    "        print(f\"There are {array.shape[0]} patches with {array.shape[1]} timesteps and {array.shape[2]} band(s) and a resolution of {array.shape[-1]}px\")"
   ]
  },
  {
   "cell_type": "code",
   "execution_count": 17,
   "metadata": {},
   "outputs": [
    {
     "name": "stdout",
     "output_type": "stream",
     "text": [
      "256 6\n",
      "Saved patches from source images as array with shape: (60, 6, 10, 256, 256)\n",
      "Saved patches from source masks as array with shape: (60, 6, 1, 256, 256)\n",
      "Saved patches from source global_mask as array with shape: (60, 1, 256, 256)\n"
     ]
    }
   ],
   "source": [
    "# Save filtered patches \n",
    "patches_folder = r\"D:\\SatelliteDataCube\\Chimanimani\\patches\"\n",
    "S2_Chimanimani.save_patches(patches=S2_Chimanimani_pt256_ts10, patches_folder=patches_folder)"
   ]
  },
  {
   "cell_type": "code",
   "execution_count": 20,
   "metadata": {},
   "outputs": [
    {
     "ename": "TypeError",
     "evalue": "sanity_check() missing 1 required positional argument: 'self'",
     "output_type": "error",
     "traceback": [
      "\u001b[1;31m---------------------------------------------------------------------------\u001b[0m",
      "\u001b[1;31mTypeError\u001b[0m                                 Traceback (most recent call last)",
      "Cell \u001b[1;32mIn[20], line 2\u001b[0m\n\u001b[0;32m      1\u001b[0m \u001b[39mfrom\u001b[39;00m \u001b[39msatellite_datacube\u001b[39;00m\u001b[39m.\u001b[39;00m\u001b[39mutils\u001b[39;00m \u001b[39mimport\u001b[39;00m sanity_check\n\u001b[1;32m----> 2\u001b[0m sanity_check(patches\u001b[39m=\u001b[39;49mS2_Chimanimani_pt256_ts10)\n",
      "\u001b[1;31mTypeError\u001b[0m: sanity_check() missing 1 required positional argument: 'self'"
     ]
    }
   ],
   "source": [
    "from satellite_datacube.utils import sanity_check\n",
    "sanity_check(patches=S2_Chimanimani_pt256_ts10)"
   ]
  },
  {
   "cell_type": "code",
   "execution_count": null,
   "metadata": {},
   "outputs": [],
   "source": []
  }
 ],
 "metadata": {
  "kernelspec": {
   "display_name": "Python 3",
   "language": "python",
   "name": "python3"
  },
  "language_info": {
   "codemirror_mode": {
    "name": "ipython",
    "version": 3
   },
   "file_extension": ".py",
   "mimetype": "text/x-python",
   "name": "python",
   "nbconvert_exporter": "python",
   "pygments_lexer": "ipython3",
   "version": "3.11.3"
  },
  "orig_nbformat": 4
 },
 "nbformat": 4,
 "nbformat_minor": 2
}

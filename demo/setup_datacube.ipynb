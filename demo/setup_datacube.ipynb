{
 "cells": [
  {
   "cell_type": "markdown",
   "metadata": {},
   "source": [
    "Here is a simple example of how the package can be used and what requirements must be met in order to be able to use the full range of functions.\n",
    "A basic requirement is the availability of downloaded satellite image data (so far only Sentinel-2 is supported). The data structure should look similar to this: \n",
    "\n",
    "![Example data structure](./img/example_data_structure.png)\n",
    "\n",
    "The most important thing is that the bands in the folder are marked with a \"B\" and the number and stored as GeoTIFF, e.g. ..._B02.tif, ..._B12.tif. If the data is to be pre-processed for a deep learning model, then a file with the corresponding labels must also be provided for each image and contain the name annotation (see example: annotation.tif)."
   ]
  },
  {
   "cell_type": "code",
   "execution_count": 1,
   "metadata": {},
   "outputs": [],
   "source": [
    "# Make sure the package is installed\n",
    "# pip install satellite_datacube"
   ]
  },
  {
   "cell_type": "code",
   "execution_count": 1,
   "metadata": {},
   "outputs": [
    {
     "name": "stdout",
     "output_type": "stream",
     "text": [
      "\n",
      "----------------------------------------\n",
      "Initialized data-cube with following parameter:\n",
      "- Images from satellite mission: S2\n",
      "- Base folder: D:\\SatelliteDataCube\\Chimanimani\n",
      "- Start-End: 2018-09-06 00:00:00 -> 2019-09-16 00:00:00\n",
      "- Length of data-cube: 76\n",
      "----------------------------------------\n"
     ]
    }
   ],
   "source": [
    "from satellite_datacube.datacube import SatelliteDataCube \n",
    "\n",
    "# Define folder of satellite data and specify some parameters (read more in the doc-string)\n",
    "satellite = \"S2\" # or S1 or S12\n",
    "base_folder = r\"D:\\SatelliteDataCube\\Chimanimani\" # path_of_SITS = \".../Sentinel2\"\n",
    "S2_Chimanimani = SatelliteDataCube(satellite=satellite, base_folder=base_folder)"
   ]
  },
  {
   "cell_type": "code",
   "execution_count": null,
   "metadata": {},
   "outputs": [
    {
     "name": "stdout",
     "output_type": "stream",
     "text": [
      "Selecting timeseries of length 6 with bad pixel limit of 15 % for each satellite image\n",
      "None 15\n"
     ]
    },
    {
     "ename": "TypeError",
     "evalue": "'<=' not supported between instances of 'NoneType' and 'int'",
     "output_type": "error",
     "traceback": [
      "\u001b[1;31m---------------------------------------------------------------------------\u001b[0m",
      "\u001b[1;31mTypeError\u001b[0m                                 Traceback (most recent call last)",
      "Cell \u001b[1;32mIn[5], line 2\u001b[0m\n\u001b[0;32m      1\u001b[0m \u001b[39m# Preprocessing data:\u001b[39;00m\n\u001b[1;32m----> 2\u001b[0m S2_datacube\u001b[39m.\u001b[39;49mcreate_timeseries()\n",
      "File \u001b[1;32mc:\\users\\hoeh_pa\\desktop\\satellitedatacube\\satellite_datacube\\datacube.py:295\u001b[0m, in \u001b[0;36mSatelliteDataCube.create_timeseries\u001b[1;34m(self)\u001b[0m\n\u001b[0;32m    293\u001b[0m \u001b[39mprint\u001b[39m(\u001b[39m\"\u001b[39m\u001b[39m[\u001b[39m\u001b[39m\"\u001b[39m \u001b[39m+\u001b[39m \u001b[39m\"\u001b[39m\u001b[39m \u001b[39m\u001b[39m\"\u001b[39m\u001b[39m.\u001b[39mjoin(\u001b[39mstr\u001b[39m(x) \u001b[39mfor\u001b[39;00m x \u001b[39min\u001b[39;00m \u001b[39mrange\u001b[39m(\u001b[39mlen\u001b[39m(timeseries) \u001b[39m+\u001b[39m \u001b[39m1\u001b[39m)) \u001b[39m+\u001b[39m \u001b[39m\"\u001b[39m\u001b[39m]\u001b[39m\u001b[39m\"\u001b[39m, end\u001b[39m=\u001b[39m\u001b[39m'\u001b[39m\u001b[39m\\r\u001b[39;00m\u001b[39m'\u001b[39m)\n\u001b[0;32m    294\u001b[0m satellite_image \u001b[39m=\u001b[39m _get_image_by_index(target_idx)\n\u001b[1;32m--> 295\u001b[0m \u001b[39mif\u001b[39;00m _is_image_quality_acceptable(satellite_image):\n\u001b[0;32m    296\u001b[0m     timeseries\u001b[39m.\u001b[39mappend(satellite_image)\n\u001b[0;32m    297\u001b[0m \u001b[39melse\u001b[39;00m:\n",
      "File \u001b[1;32mc:\\users\\hoeh_pa\\desktop\\satellitedatacube\\satellite_datacube\\datacube.py:263\u001b[0m, in \u001b[0;36mSatelliteDataCube.create_timeseries.<locals>._is_image_quality_acceptable\u001b[1;34m(image)\u001b[0m\n\u001b[0;32m    261\u001b[0m \u001b[39mdef\u001b[39;00m \u001b[39m_is_image_quality_acceptable\u001b[39m(image):\n\u001b[0;32m    262\u001b[0m     \u001b[39mprint\u001b[39m(image\u001b[39m.\u001b[39m_badPixelRatio, \u001b[39mself\u001b[39m\u001b[39m.\u001b[39mbad_pixel_limit)\n\u001b[1;32m--> 263\u001b[0m     \u001b[39mreturn\u001b[39;00m image\u001b[39m.\u001b[39;49m_badPixelRatio \u001b[39m<\u001b[39;49m\u001b[39m=\u001b[39;49m \u001b[39mself\u001b[39;49m\u001b[39m.\u001b[39;49mbad_pixel_limit \u001b[39mand\u001b[39;00m image \u001b[39mnot\u001b[39;00m \u001b[39min\u001b[39;00m timeseries\n",
      "\u001b[1;31mTypeError\u001b[0m: '<=' not supported between instances of 'NoneType' and 'int'"
     ]
    }
   ],
   "source": [
    "# Make a selection of images and store them as timeseries \n",
    "ts10 = S2_Chimanimani.create_timeseries(timeseries_length=10)\n",
    "print(ts10)"
   ]
  },
  {
   "cell_type": "code",
   "execution_count": null,
   "metadata": {},
   "outputs": [
    {
     "data": {
      "text/plain": [
       "{'global_mask': array([[[0, 0, 0, ..., 0, 0, 0],\n",
       "         [0, 0, 0, ..., 0, 0, 0],\n",
       "         [0, 0, 0, ..., 0, 0, 0],\n",
       "         ...,\n",
       "         [0, 0, 0, ..., 0, 0, 0],\n",
       "         [0, 0, 0, ..., 0, 0, 0],\n",
       "         [0, 0, 0, ..., 0, 0, 0]]]),\n",
       " 'ts-6': array([[       0,       15,       28,       47,       60,       74],\n",
       "        [20180906, 20181120, 20190124, 20190429, 20190703, 20190911]])}"
      ]
     },
     "execution_count": 11,
     "metadata": {},
     "output_type": "execute_result"
    }
   ],
   "source": [
    "# Show global data\n",
    "S2_datacube.global_data"
   ]
  },
  {
   "cell_type": "code",
   "execution_count": null,
   "metadata": {},
   "outputs": [
    {
     "name": "stdout",
     "output_type": "stream",
     "text": [
      "Building global mask of datacube\n",
      "Selecting timeseries of length 8 with bad pixel limit of 15 % for each satellite image\n",
      "Saving global data in: D:\\SatelliteDataCube\\Chimanimani\\global_data.hdf5\n"
     ]
    },
    {
     "data": {
      "text/plain": [
       "{'global_mask': array([[[0, 0, 0, ..., 0, 0, 0],\n",
       "         [0, 0, 0, ..., 0, 0, 0],\n",
       "         [0, 0, 0, ..., 0, 0, 0],\n",
       "         ...,\n",
       "         [0, 0, 0, ..., 0, 0, 0],\n",
       "         [0, 0, 0, ..., 0, 0, 0],\n",
       "         [0, 0, 0, ..., 0, 0, 0]]]),\n",
       " 'ts-6': array([[       0,       15,       28,       47,       60,       74],\n",
       "        [20180906, 20181120, 20190124, 20190429, 20190703, 20190911]]),\n",
       " 'ts-8': array([[       0,       10,       21,       34,       42,       55,\n",
       "               64,       74],\n",
       "        [20180906, 20181026, 20181220, 20190223, 20190404, 20190608,\n",
       "         20190723, 20190911]])}"
      ]
     },
     "execution_count": 12,
     "metadata": {},
     "output_type": "execute_result"
    }
   ],
   "source": [
    "# Add timeseries to global data file \n",
    "S2_datacube.create_global_data(timeseries_length=8, bad_pixel_limit=S2_datacube.parameters[\"badPixelLimit\"])\n",
    "S2_datacube.global_data"
   ]
  },
  {
   "cell_type": "code",
   "execution_count": null,
   "metadata": {},
   "outputs": [
    {
     "name": "stdout",
     "output_type": "stream",
     "text": [
      "Loading global data from: D:\\SatelliteDataCube\\Chimanimani\\global_data.hdf5\n",
      "Loading patches as dictonary with keys [img, msk, msk_gb] from .npy files\n"
     ]
    }
   ],
   "source": [
    "S2_datacube.preprocess()"
   ]
  },
  {
   "cell_type": "code",
   "execution_count": null,
   "metadata": {},
   "outputs": [],
   "source": []
  }
 ],
 "metadata": {
  "kernelspec": {
   "display_name": "Python 3",
   "language": "python",
   "name": "python3"
  },
  "language_info": {
   "codemirror_mode": {
    "name": "ipython",
    "version": 3
   },
   "file_extension": ".py",
   "mimetype": "text/x-python",
   "name": "python",
   "nbconvert_exporter": "python",
   "pygments_lexer": "ipython3",
   "version": "3.11.3"
  },
  "orig_nbformat": 4
 },
 "nbformat": 4,
 "nbformat_minor": 2
}

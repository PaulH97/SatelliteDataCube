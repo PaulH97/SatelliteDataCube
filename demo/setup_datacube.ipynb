{
 "cells": [
  {
   "cell_type": "markdown",
   "metadata": {},
   "source": [
    "Here is a simple example of how the package can be used and what requirements must be met in order to be able to use the full range of functions.\n",
    "A basic requirement is the availability of downloaded satellite image data (so far only Sentinel-2 is supported). The data structure should look similar to this: \n",
    "\n",
    "![Example data structure](./img/example_data_structure.png)\n",
    "\n",
    "The most important thing is that the bands in the folder are marked with a \"B\" and the number and stored as GeoTIFF, e.g. ..._B02.tif, ..._B12.tif. If the data is to be pre-processed for a deep learning model, then a file with the corresponding labels must also be provided for each image and contain the name annotation (see example: annotation.tif)."
   ]
  },
  {
   "cell_type": "code",
   "execution_count": 1,
   "metadata": {},
   "outputs": [],
   "source": [
    "# Make sure the package is installed\n",
    "# pip install satellite_datacube"
   ]
  },
  {
   "cell_type": "code",
   "execution_count": 1,
   "metadata": {},
   "outputs": [],
   "source": [
    "from satellite_datacube.datacube import SatelliteDataCube \n",
    "\n",
    "# Define folder of satellite data and specify some parameters (read more in the doc-string)\n",
    "path_of_SITS = r\"D:\\SatelliteDataCube\\Chimanimani\" # path_of_SITS = \".../Sentinel2\"\n",
    "satellites = [\"S1\", \"S2\"]\n",
    "dcParameter = { \"timeseriesLength\": 6 , \"badPixelLimit\": 15 , \"patchSize\": 128}"
   ]
  },
  {
   "cell_type": "code",
   "execution_count": 8,
   "metadata": {},
   "outputs": [
    {
     "name": "stdout",
     "output_type": "stream",
     "text": [
      "Initializing satellite images\n",
      "-------------------- Chimanimani --------------------\n",
      "Initializing data-cube with following parameter:\n",
      "- base folder: D:\\SatelliteDataCube\\Chimanimani\n",
      "- length of timeseries: 6\n",
      "- limit of bad pixel per satellite image in timeseries: 15%\n",
      "- patch size of 128\n"
     ]
    }
   ],
   "source": [
    "# Initialisation of the data cube without loading of the preprocess\n",
    "S2_datacube = SatelliteDataCube(base_folder=path_of_SITS, parameters=dcParameter, load_data=False)"
   ]
  },
  {
   "cell_type": "code",
   "execution_count": 9,
   "metadata": {},
   "outputs": [
    {
     "name": "stdout",
     "output_type": "stream",
     "text": [
      "Initializing satellite images\n",
      "-------------------- Chimanimani --------------------\n",
      "Initializing data-cube with following parameter:\n",
      "- base folder: D:\\SatelliteDataCube\\Chimanimani\n",
      "- length of timeseries: 6\n",
      "- limit of bad pixel per satellite image in timeseries: 15%\n",
      "- patch size of 128\n",
      "Loading global data from: D:\\SatelliteDataCube\\Chimanimani\\global_data.hdf5\n",
      "Loading patches as dictonary with keys [img, msk, msk_gb] from .npy files\n"
     ]
    }
   ],
   "source": [
    "# Initialisation of the data cube with loading of the data (global_data + patches)\n",
    "S2_datacube = SatelliteDataCube(base_folder=path_of_SITS, parameters=dcParameter, load_data=True)"
   ]
  },
  {
   "cell_type": "code",
   "execution_count": 10,
   "metadata": {},
   "outputs": [
    {
     "name": "stdout",
     "output_type": "stream",
     "text": [
      "Loading global data from: D:\\SatelliteDataCube\\Chimanimani\\global_data.hdf5\n",
      "Loading patches as dictonary with keys [img, msk, msk_gb] from .npy files\n"
     ]
    }
   ],
   "source": [
    "# Preprocessing data:\n",
    "S2_datacube.preprocess()"
   ]
  },
  {
   "cell_type": "code",
   "execution_count": 11,
   "metadata": {},
   "outputs": [
    {
     "data": {
      "text/plain": [
       "{'global_mask': array([[[0, 0, 0, ..., 0, 0, 0],\n",
       "         [0, 0, 0, ..., 0, 0, 0],\n",
       "         [0, 0, 0, ..., 0, 0, 0],\n",
       "         ...,\n",
       "         [0, 0, 0, ..., 0, 0, 0],\n",
       "         [0, 0, 0, ..., 0, 0, 0],\n",
       "         [0, 0, 0, ..., 0, 0, 0]]]),\n",
       " 'ts-6': array([[       0,       15,       28,       47,       60,       74],\n",
       "        [20180906, 20181120, 20190124, 20190429, 20190703, 20190911]])}"
      ]
     },
     "execution_count": 11,
     "metadata": {},
     "output_type": "execute_result"
    }
   ],
   "source": [
    "# Show global data\n",
    "S2_datacube.global_data"
   ]
  },
  {
   "cell_type": "code",
   "execution_count": 12,
   "metadata": {},
   "outputs": [
    {
     "name": "stdout",
     "output_type": "stream",
     "text": [
      "Building global mask of datacube\n",
      "Selecting timeseries of length 8 with bad pixel limit of 15 % for each satellite image\n",
      "Saving global data in: D:\\SatelliteDataCube\\Chimanimani\\global_data.hdf5\n"
     ]
    },
    {
     "data": {
      "text/plain": [
       "{'global_mask': array([[[0, 0, 0, ..., 0, 0, 0],\n",
       "         [0, 0, 0, ..., 0, 0, 0],\n",
       "         [0, 0, 0, ..., 0, 0, 0],\n",
       "         ...,\n",
       "         [0, 0, 0, ..., 0, 0, 0],\n",
       "         [0, 0, 0, ..., 0, 0, 0],\n",
       "         [0, 0, 0, ..., 0, 0, 0]]]),\n",
       " 'ts-6': array([[       0,       15,       28,       47,       60,       74],\n",
       "        [20180906, 20181120, 20190124, 20190429, 20190703, 20190911]]),\n",
       " 'ts-8': array([[       0,       10,       21,       34,       42,       55,\n",
       "               64,       74],\n",
       "        [20180906, 20181026, 20181220, 20190223, 20190404, 20190608,\n",
       "         20190723, 20190911]])}"
      ]
     },
     "execution_count": 12,
     "metadata": {},
     "output_type": "execute_result"
    }
   ],
   "source": [
    "# Add timeseries to global data file \n",
    "S2_datacube.create_global_data(timeseries_length=8, bad_pixel_limit=S2_datacube.parameters[\"badPixelLimit\"])\n",
    "S2_datacube.global_data"
   ]
  },
  {
   "cell_type": "code",
   "execution_count": 13,
   "metadata": {},
   "outputs": [
    {
     "name": "stdout",
     "output_type": "stream",
     "text": [
      "Loading global data from: D:\\SatelliteDataCube\\Chimanimani\\global_data.hdf5\n",
      "Loading patches as dictonary with keys [img, msk, msk_gb] from .npy files\n"
     ]
    }
   ],
   "source": [
    "S2_datacube.preprocess()"
   ]
  },
  {
   "cell_type": "code",
   "execution_count": null,
   "metadata": {},
   "outputs": [],
   "source": []
  }
 ],
 "metadata": {
  "kernelspec": {
   "display_name": "Python 3",
   "language": "python",
   "name": "python3"
  },
  "language_info": {
   "codemirror_mode": {
    "name": "ipython",
    "version": 3
   },
   "file_extension": ".py",
   "mimetype": "text/x-python",
   "name": "python",
   "nbconvert_exporter": "python",
   "pygments_lexer": "ipython3",
   "version": "3.11.3"
  },
  "orig_nbformat": 4
 },
 "nbformat": 4,
 "nbformat_minor": 2
}

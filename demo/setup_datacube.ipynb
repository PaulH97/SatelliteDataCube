{
 "cells": [
  {
   "cell_type": "markdown",
   "metadata": {},
   "source": [
    "Here is a simple example of how the package can be used and what requirements must be met in order to be able to use the full range of functions.\n",
    "A basic requirement is the availability of downloaded satellite image data (so far only Sentinel-2 is supported). The data structure should look similar to this: \n",
    "\n",
    "![Example data structure](./img/example_data_structure.png)\n",
    "\n",
    "The most important thing is that the bands in the folder are marked with a \"B\" and the number and stored as GeoTIFF, e.g. ..._B02.tif, ..._B12.tif. If the data is to be pre-processed for a deep learning model, then a file with the corresponding labels must also be provided for each image and contain the name annotation (see example: annotation.tif)."
   ]
  },
  {
   "cell_type": "code",
   "execution_count": 1,
   "metadata": {},
   "outputs": [],
   "source": [
    "# Make sure the package is installed\n",
    "# pip install satellite_datacube"
   ]
  },
  {
   "cell_type": "code",
   "execution_count": 4,
   "metadata": {},
   "outputs": [
    {
     "name": "stdout",
     "output_type": "stream",
     "text": [
      "-------------------- Chimanimani --------------------\n",
      "Initializing data-cube with following parameter:\n",
      "- base folder: D:\\WeMonitor\\Data\\Landslides\\S2\\Locations\\Chimanimani\n",
      "- length of timeseries: 6\n",
      "- limit of bad pixel per satellite image in timeseries: 15%\n",
      "- patch size of 128\n",
      "Initializing satellite images\n",
      "Loading global data from: D:\\WeMonitor\\Data\\Landslides\\S2\\Locations\\Chimanimani\\global_data.hdf5\n",
      "Loading patches as dictonary with keys [img, msk, msk_gb] from .npy files\n"
     ]
    }
   ],
   "source": [
    "from satellite_datacube.datacube import SatelliteDataCube \n",
    "\n",
    "# Define folder of satellite data and specify some parameters (read more in the doc-string)\n",
    "path_of_SITS = r\"D:\\WeMonitor\\Data\\Landslides\\S2\\Locations\\Chimanimani\" # path_of_SITS = \".../Sentinel2\"\n",
    "satellites = [\"S1\", \"S2\"]\n",
    "dcParameter = { \"timeseriesLength\": 6 , \"badPixelLimit\": 15 , \"patchSize\": 128}\n",
    "\n",
    "S2_datacube = SatelliteDataCube(base_folder=path_of_SITS, parameters=dcParameter, preprocess=False)"
   ]
  },
  {
   "cell_type": "markdown",
   "metadata": {},
   "source": []
  },
  {
   "cell_type": "code",
   "execution_count": null,
   "metadata": {},
   "outputs": [],
   "source": []
  },
  {
   "cell_type": "code",
   "execution_count": null,
   "metadata": {},
   "outputs": [],
   "source": []
  }
 ],
 "metadata": {
  "kernelspec": {
   "display_name": "Python 3",
   "language": "python",
   "name": "python3"
  },
  "language_info": {
   "codemirror_mode": {
    "name": "ipython",
    "version": 3
   },
   "file_extension": ".py",
   "mimetype": "text/x-python",
   "name": "python",
   "nbconvert_exporter": "python",
   "pygments_lexer": "ipython3",
   "version": "3.11.3"
  },
  "orig_nbformat": 4
 },
 "nbformat": 4,
 "nbformat_minor": 2
}
